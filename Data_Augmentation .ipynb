{
 "cells": [
  {
   "cell_type": "code",
   "execution_count": 1,
   "id": "3b795d40",
   "metadata": {},
   "outputs": [],
   "source": [
    "import os\n",
    "import numpy as np\n",
    "import matplotlib.pyplot as plt\n",
    "from tensorflow.keras.preprocessing.image import ImageDataGenerator, array_to_img, img_to_array, load_img"
   ]
  },
  {
   "cell_type": "code",
   "execution_count": 2,
   "id": "083e201c",
   "metadata": {},
   "outputs": [],
   "source": [
    "image_directory = 'images'"
   ]
  },
  {
   "cell_type": "code",
   "execution_count": 3,
   "id": "5eec7155",
   "metadata": {},
   "outputs": [],
   "source": [
    "image_files = [f for f in os.listdir(image_directory) if f.endswith('.jpg')]"
   ]
  },
  {
   "cell_type": "code",
   "execution_count": 5,
   "id": "73df1831",
   "metadata": {},
   "outputs": [],
   "source": [
    "datagen = ImageDataGenerator(\n",
    "    rotation_range=40,\n",
    "    width_shift_range=0.2,\n",
    "    height_shift_range=0.2,\n",
    "    shear_range=0.2,\n",
    "    zoom_range=0.2,\n",
    "    horizontal_flip=True,\n",
    "    fill_mode='nearest')"
   ]
  },
  {
   "cell_type": "code",
   "execution_count": 6,
   "id": "75bd15cd",
   "metadata": {},
   "outputs": [
    {
     "name": "stdout",
     "output_type": "stream",
     "text": [
      "Data augmentation complete!\n"
     ]
    }
   ],
   "source": [
    "for image_file in image_files:\n",
    "    img = load_img(os.path.join(image_directory, image_file))\n",
    "    x = img_to_array(img)\n",
    "    x = x.reshape((1,) + x.shape)\n",
    "\n",
    "   \n",
    "    augmented_images = []\n",
    "    num_augmented_images = 5 \n",
    "\n",
    "    for batch in datagen.flow(x, batch_size=1):\n",
    "        augmented_images.append(batch[0])\n",
    "        if len(augmented_images) >= num_augmented_images:\n",
    "            break\n",
    "\n",
    "    \n",
    "    for i, image in enumerate(augmented_images):\n",
    "        augmented_img = array_to_img(image)\n",
    "        augmented_img.save(os.path.join(image_directory, f'{os.path.splitext(image_file)[0]}_aug_{i+1}.jpg'))\n",
    "\n",
    "print(\"Data augmentation complete!\")"
   ]
  },
  {
   "cell_type": "code",
   "execution_count": null,
   "id": "193a022c",
   "metadata": {},
   "outputs": [],
   "source": []
  }
 ],
 "metadata": {
  "kernelspec": {
   "display_name": "Python 3 (ipykernel)",
   "language": "python",
   "name": "python3"
  },
  "language_info": {
   "codemirror_mode": {
    "name": "ipython",
    "version": 3
   },
   "file_extension": ".py",
   "mimetype": "text/x-python",
   "name": "python",
   "nbconvert_exporter": "python",
   "pygments_lexer": "ipython3",
   "version": "3.11.5"
  }
 },
 "nbformat": 4,
 "nbformat_minor": 5
}
