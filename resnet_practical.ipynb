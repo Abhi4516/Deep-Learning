{
 "cells": [
  {
   "cell_type": "code",
   "execution_count": 1,
   "id": "3dea8888",
   "metadata": {},
   "outputs": [
    {
     "name": "stdout",
     "output_type": "stream",
     "text": [
      "WARNING:tensorflow:From C:\\Users\\ASUS ZenBook\\AppData\\Roaming\\Python\\Python311\\site-packages\\keras\\src\\losses.py:2976: The name tf.losses.sparse_softmax_cross_entropy is deprecated. Please use tf.compat.v1.losses.sparse_softmax_cross_entropy instead.\n",
      "\n"
     ]
    }
   ],
   "source": [
    "from tensorflow.keras.layers import Input, Lambda, Dense, Flatten\n",
    "from tensorflow.keras.models import Model\n",
    "from tensorflow.keras.applications.resnet50 import ResNet50\n",
    "from tensorflow.keras.preprocessing import image\n",
    "from tensorflow.keras.preprocessing.image import ImageDataGenerator,load_img\n",
    "from tensorflow.keras.models import Sequential\n",
    "import numpy as np\n",
    "from glob import glob"
   ]
  },
  {
   "cell_type": "code",
   "execution_count": 3,
   "id": "5a5ddbe5",
   "metadata": {},
   "outputs": [],
   "source": [
    "ROOT_PATH = 'flowers'"
   ]
  },
  {
   "cell_type": "code",
   "execution_count": 4,
   "id": "9f245af4",
   "metadata": {},
   "outputs": [],
   "source": [
    "IMAGE_SIZE = [224, 224]\n",
    "\n",
    "train_path = 'flowers/train'\n",
    "valid_path = 'flowers/validation'"
   ]
  },
  {
   "cell_type": "code",
   "execution_count": 7,
   "id": "4f220c7d",
   "metadata": {
    "scrolled": false
   },
   "outputs": [
    {
     "name": "stdout",
     "output_type": "stream",
     "text": [
      "A local file was found, but it seems to be incomplete or outdated because the auto file hash does not match the original value of 4d473c1dd8becc155b73f8504c6f6626 so we will re-download the data.\n",
      "Downloading data from https://storage.googleapis.com/tensorflow/keras-applications/resnet/resnet50_weights_tf_dim_ordering_tf_kernels_notop.h5\n",
      "94765736/94765736 [==============================] - 94s 1us/step\n"
     ]
    }
   ],
   "source": [
    "resenet50=ResNet50(input_shape=IMAGE_SIZE+[3],weights='imagenet',include_top=False)"
   ]
  },
  {
   "cell_type": "code",
   "execution_count": 11,
   "id": "670938bd",
   "metadata": {},
   "outputs": [
    {
     "data": {
      "text/plain": [
       "[<keras.src.engine.input_layer.InputLayer at 0x1e024641210>,\n",
       " <keras.src.layers.reshaping.zero_padding2d.ZeroPadding2D at 0x1e02ba99690>,\n",
       " <keras.src.layers.convolutional.conv2d.Conv2D at 0x1e02ba9b610>,\n",
       " <keras.src.layers.normalization.batch_normalization.BatchNormalization at 0x1e02c0c24d0>,\n",
       " <keras.src.layers.core.activation.Activation at 0x1e02ba91dd0>,\n",
       " <keras.src.layers.reshaping.zero_padding2d.ZeroPadding2D at 0x1e02ba7ce10>,\n",
       " <keras.src.layers.pooling.max_pooling2d.MaxPooling2D at 0x1e02c12bed0>,\n",
       " <keras.src.layers.convolutional.conv2d.Conv2D at 0x1e02c121790>,\n",
       " <keras.src.layers.normalization.batch_normalization.BatchNormalization at 0x1e02c128350>,\n",
       " <keras.src.layers.core.activation.Activation at 0x1e02c128a10>,\n",
       " <keras.src.layers.convolutional.conv2d.Conv2D at 0x1e02ba9e6d0>,\n",
       " <keras.src.layers.normalization.batch_normalization.BatchNormalization at 0x1e02ba6d550>,\n",
       " <keras.src.layers.core.activation.Activation at 0x1e02ba98390>,\n",
       " <keras.src.layers.convolutional.conv2d.Conv2D at 0x1e02c1326d0>,\n",
       " <keras.src.layers.convolutional.conv2d.Conv2D at 0x1e02c0f9b90>,\n",
       " <keras.src.layers.normalization.batch_normalization.BatchNormalization at 0x1e02c133050>,\n",
       " <keras.src.layers.normalization.batch_normalization.BatchNormalization at 0x1e02c156e50>,\n",
       " <keras.src.layers.merging.add.Add at 0x1e02c127850>,\n",
       " <keras.src.layers.core.activation.Activation at 0x1e02ba7d250>,\n",
       " <keras.src.layers.convolutional.conv2d.Conv2D at 0x1e02c1898d0>,\n",
       " <keras.src.layers.normalization.batch_normalization.BatchNormalization at 0x1e02ba82d50>,\n",
       " <keras.src.layers.core.activation.Activation at 0x1e0245d4490>,\n",
       " <keras.src.layers.convolutional.conv2d.Conv2D at 0x1e02ba83a50>,\n",
       " <keras.src.layers.normalization.batch_normalization.BatchNormalization at 0x1e02ba92750>,\n",
       " <keras.src.layers.core.activation.Activation at 0x1e02c193390>,\n",
       " <keras.src.layers.convolutional.conv2d.Conv2D at 0x1e02c1a8650>,\n",
       " <keras.src.layers.normalization.batch_normalization.BatchNormalization at 0x1e02c19ab10>,\n",
       " <keras.src.layers.merging.add.Add at 0x1e02c13da90>,\n",
       " <keras.src.layers.core.activation.Activation at 0x1e020272d10>,\n",
       " <keras.src.layers.convolutional.conv2d.Conv2D at 0x1e02c1c6450>,\n",
       " <keras.src.layers.normalization.batch_normalization.BatchNormalization at 0x1e02c1c7c90>,\n",
       " <keras.src.layers.core.activation.Activation at 0x1e02ba98410>,\n",
       " <keras.src.layers.convolutional.conv2d.Conv2D at 0x1e02c1c5a90>,\n",
       " <keras.src.layers.normalization.batch_normalization.BatchNormalization at 0x1e02c1d8750>,\n",
       " <keras.src.layers.core.activation.Activation at 0x1e0246abe10>,\n",
       " <keras.src.layers.convolutional.conv2d.Conv2D at 0x1e02c1adf10>,\n",
       " <keras.src.layers.normalization.batch_normalization.BatchNormalization at 0x1e02c1db350>,\n",
       " <keras.src.layers.merging.add.Add at 0x1e02c1ae7d0>,\n",
       " <keras.src.layers.core.activation.Activation at 0x1e02c1c79d0>,\n",
       " <keras.src.layers.convolutional.conv2d.Conv2D at 0x1e02c13f490>,\n",
       " <keras.src.layers.normalization.batch_normalization.BatchNormalization at 0x1e02c127690>,\n",
       " <keras.src.layers.core.activation.Activation at 0x1e02ba7d990>,\n",
       " <keras.src.layers.convolutional.conv2d.Conv2D at 0x1e02c132290>,\n",
       " <keras.src.layers.normalization.batch_normalization.BatchNormalization at 0x1e02c1ec790>,\n",
       " <keras.src.layers.core.activation.Activation at 0x1e02c189410>,\n",
       " <keras.src.layers.convolutional.conv2d.Conv2D at 0x1e02c18bcd0>,\n",
       " <keras.src.layers.convolutional.conv2d.Conv2D at 0x1e02c1f8d90>,\n",
       " <keras.src.layers.normalization.batch_normalization.BatchNormalization at 0x1e02ba911d0>,\n",
       " <keras.src.layers.normalization.batch_normalization.BatchNormalization at 0x1e02ba83650>,\n",
       " <keras.src.layers.merging.add.Add at 0x1e02c149950>,\n",
       " <keras.src.layers.core.activation.Activation at 0x1e02c1d7910>,\n",
       " <keras.src.layers.convolutional.conv2d.Conv2D at 0x1e02c14a490>,\n",
       " <keras.src.layers.normalization.batch_normalization.BatchNormalization at 0x1e02c217e10>,\n",
       " <keras.src.layers.core.activation.Activation at 0x1e02c1e1b10>,\n",
       " <keras.src.layers.convolutional.conv2d.Conv2D at 0x1e02c21cdd0>,\n",
       " <keras.src.layers.normalization.batch_normalization.BatchNormalization at 0x1e02c21eb90>,\n",
       " <keras.src.layers.core.activation.Activation at 0x1e02c154f10>,\n",
       " <keras.src.layers.convolutional.conv2d.Conv2D at 0x1e02c21ff10>,\n",
       " <keras.src.layers.normalization.batch_normalization.BatchNormalization at 0x1e02c207a10>,\n",
       " <keras.src.layers.merging.add.Add at 0x1e02d219b10>,\n",
       " <keras.src.layers.core.activation.Activation at 0x1e02d21b410>,\n",
       " <keras.src.layers.convolutional.conv2d.Conv2D at 0x1e02c231fd0>,\n",
       " <keras.src.layers.normalization.batch_normalization.BatchNormalization at 0x1e02c23f6d0>,\n",
       " <keras.src.layers.core.activation.Activation at 0x1e0246930d0>,\n",
       " <keras.src.layers.convolutional.conv2d.Conv2D at 0x1e02ba824d0>,\n",
       " <keras.src.layers.normalization.batch_normalization.BatchNormalization at 0x1e02c206c50>,\n",
       " <keras.src.layers.core.activation.Activation at 0x1e02c2176d0>,\n",
       " <keras.src.layers.convolutional.conv2d.Conv2D at 0x1e02c1e2e10>,\n",
       " <keras.src.layers.normalization.batch_normalization.BatchNormalization at 0x1e02c1e2890>,\n",
       " <keras.src.layers.merging.add.Add at 0x1e02c1aae10>,\n",
       " <keras.src.layers.core.activation.Activation at 0x1e02c15a190>,\n",
       " <keras.src.layers.convolutional.conv2d.Conv2D at 0x1e02d222750>,\n",
       " <keras.src.layers.normalization.batch_normalization.BatchNormalization at 0x1e02ba93a10>,\n",
       " <keras.src.layers.core.activation.Activation at 0x1e02c1dbfd0>,\n",
       " <keras.src.layers.convolutional.conv2d.Conv2D at 0x1e02d234a90>,\n",
       " <keras.src.layers.normalization.batch_normalization.BatchNormalization at 0x1e02d235290>,\n",
       " <keras.src.layers.core.activation.Activation at 0x1e02baa1850>,\n",
       " <keras.src.layers.convolutional.conv2d.Conv2D at 0x1e02c205b50>,\n",
       " <keras.src.layers.normalization.batch_normalization.BatchNormalization at 0x1e02ba82b50>,\n",
       " <keras.src.layers.merging.add.Add at 0x1e02c209a10>,\n",
       " <keras.src.layers.core.activation.Activation at 0x1e02d257590>,\n",
       " <keras.src.layers.convolutional.conv2d.Conv2D at 0x1e02d26ba50>,\n",
       " <keras.src.layers.normalization.batch_normalization.BatchNormalization at 0x1e02c1571d0>,\n",
       " <keras.src.layers.core.activation.Activation at 0x1e02ba98b50>,\n",
       " <keras.src.layers.convolutional.conv2d.Conv2D at 0x1e02d285050>,\n",
       " <keras.src.layers.normalization.batch_normalization.BatchNormalization at 0x1e02d285c10>,\n",
       " <keras.src.layers.core.activation.Activation at 0x1e02d26a910>,\n",
       " <keras.src.layers.convolutional.conv2d.Conv2D at 0x1e02d2689d0>,\n",
       " <keras.src.layers.convolutional.conv2d.Conv2D at 0x1e02d248110>,\n",
       " <keras.src.layers.normalization.batch_normalization.BatchNormalization at 0x1e02baa1c50>,\n",
       " <keras.src.layers.normalization.batch_normalization.BatchNormalization at 0x1e02d257250>,\n",
       " <keras.src.layers.merging.add.Add at 0x1e02d256f90>,\n",
       " <keras.src.layers.core.activation.Activation at 0x1e02d269090>,\n",
       " <keras.src.layers.convolutional.conv2d.Conv2D at 0x1e02ba91550>,\n",
       " <keras.src.layers.normalization.batch_normalization.BatchNormalization at 0x1e02c1e1a10>,\n",
       " <keras.src.layers.core.activation.Activation at 0x1e02d274a50>,\n",
       " <keras.src.layers.convolutional.conv2d.Conv2D at 0x1e02c1ef750>,\n",
       " <keras.src.layers.normalization.batch_normalization.BatchNormalization at 0x1e02d23d750>,\n",
       " <keras.src.layers.core.activation.Activation at 0x1e02ba93e90>,\n",
       " <keras.src.layers.convolutional.conv2d.Conv2D at 0x1e02d2977d0>,\n",
       " <keras.src.layers.normalization.batch_normalization.BatchNormalization at 0x1e02ba7f7d0>,\n",
       " <keras.src.layers.merging.add.Add at 0x1e02c15b0d0>,\n",
       " <keras.src.layers.core.activation.Activation at 0x1e02c1d4910>,\n",
       " <keras.src.layers.convolutional.conv2d.Conv2D at 0x1e02d2c2e50>,\n",
       " <keras.src.layers.normalization.batch_normalization.BatchNormalization at 0x1e02d2c3090>,\n",
       " <keras.src.layers.core.activation.Activation at 0x1e02d2b7350>,\n",
       " <keras.src.layers.convolutional.conv2d.Conv2D at 0x1e02d297b90>,\n",
       " <keras.src.layers.normalization.batch_normalization.BatchNormalization at 0x1e02d235150>,\n",
       " <keras.src.layers.core.activation.Activation at 0x1e02d25f9d0>,\n",
       " <keras.src.layers.convolutional.conv2d.Conv2D at 0x1e02d2d8650>,\n",
       " <keras.src.layers.normalization.batch_normalization.BatchNormalization at 0x1e02d2cdbd0>,\n",
       " <keras.src.layers.merging.add.Add at 0x1e02c216f10>,\n",
       " <keras.src.layers.core.activation.Activation at 0x1e02d2ef7d0>,\n",
       " <keras.src.layers.convolutional.conv2d.Conv2D at 0x1e02d2ed990>,\n",
       " <keras.src.layers.normalization.batch_normalization.BatchNormalization at 0x1e02ba81bd0>,\n",
       " <keras.src.layers.core.activation.Activation at 0x1e02d2e6d50>,\n",
       " <keras.src.layers.convolutional.conv2d.Conv2D at 0x1e02d2c02d0>,\n",
       " <keras.src.layers.normalization.batch_normalization.BatchNormalization at 0x1e02d2e44d0>,\n",
       " <keras.src.layers.core.activation.Activation at 0x1e02d2a8e50>,\n",
       " <keras.src.layers.convolutional.conv2d.Conv2D at 0x1e02c204150>,\n",
       " <keras.src.layers.normalization.batch_normalization.BatchNormalization at 0x1e02d2368d0>,\n",
       " <keras.src.layers.merging.add.Add at 0x1e02d2ce110>,\n",
       " <keras.src.layers.core.activation.Activation at 0x1e02d295010>,\n",
       " <keras.src.layers.convolutional.conv2d.Conv2D at 0x1e02d30cad0>,\n",
       " <keras.src.layers.normalization.batch_normalization.BatchNormalization at 0x1e02c1d76d0>,\n",
       " <keras.src.layers.core.activation.Activation at 0x1e02d2d5fd0>,\n",
       " <keras.src.layers.convolutional.conv2d.Conv2D at 0x1e02d24a390>,\n",
       " <keras.src.layers.normalization.batch_normalization.BatchNormalization at 0x1e02d302550>,\n",
       " <keras.src.layers.core.activation.Activation at 0x1e035731090>,\n",
       " <keras.src.layers.convolutional.conv2d.Conv2D at 0x1e03573e710>,\n",
       " <keras.src.layers.normalization.batch_normalization.BatchNormalization at 0x1e035733550>,\n",
       " <keras.src.layers.merging.add.Add at 0x1e02d3030d0>,\n",
       " <keras.src.layers.core.activation.Activation at 0x1e03573ff50>,\n",
       " <keras.src.layers.convolutional.conv2d.Conv2D at 0x1e0357476d0>,\n",
       " <keras.src.layers.normalization.batch_normalization.BatchNormalization at 0x1e02c2310d0>,\n",
       " <keras.src.layers.core.activation.Activation at 0x1e02ba991d0>,\n",
       " <keras.src.layers.convolutional.conv2d.Conv2D at 0x1e03574f190>,\n",
       " <keras.src.layers.normalization.batch_normalization.BatchNormalization at 0x1e035768d90>,\n",
       " <keras.src.layers.core.activation.Activation at 0x1e035749c90>,\n",
       " <keras.src.layers.convolutional.conv2d.Conv2D at 0x1e035781950>,\n",
       " <keras.src.layers.normalization.batch_normalization.BatchNormalization at 0x1e02c231110>,\n",
       " <keras.src.layers.merging.add.Add at 0x1e035782e90>,\n",
       " <keras.src.layers.core.activation.Activation at 0x1e03574f4d0>,\n",
       " <keras.src.layers.convolutional.conv2d.Conv2D at 0x1e02d249350>,\n",
       " <keras.src.layers.normalization.batch_normalization.BatchNormalization at 0x1e02d28f710>,\n",
       " <keras.src.layers.core.activation.Activation at 0x1e035781890>,\n",
       " <keras.src.layers.convolutional.conv2d.Conv2D at 0x1e02d29d450>,\n",
       " <keras.src.layers.normalization.batch_normalization.BatchNormalization at 0x1e035765a10>,\n",
       " <keras.src.layers.core.activation.Activation at 0x1e035793150>,\n",
       " <keras.src.layers.convolutional.conv2d.Conv2D at 0x1e035745850>,\n",
       " <keras.src.layers.convolutional.conv2d.Conv2D at 0x1e03579ed90>,\n",
       " <keras.src.layers.normalization.batch_normalization.BatchNormalization at 0x1e035733b90>,\n",
       " <keras.src.layers.normalization.batch_normalization.BatchNormalization at 0x1e02d2ec650>,\n",
       " <keras.src.layers.merging.add.Add at 0x1e03574d910>,\n",
       " <keras.src.layers.core.activation.Activation at 0x1e035768b90>,\n",
       " <keras.src.layers.convolutional.conv2d.Conv2D at 0x1e0357b2a50>,\n",
       " <keras.src.layers.normalization.batch_normalization.BatchNormalization at 0x1e035733c10>,\n",
       " <keras.src.layers.core.activation.Activation at 0x1e0357b0b50>,\n",
       " <keras.src.layers.convolutional.conv2d.Conv2D at 0x1e0357bf090>,\n",
       " <keras.src.layers.normalization.batch_normalization.BatchNormalization at 0x1e0357be210>,\n",
       " <keras.src.layers.core.activation.Activation at 0x1e0357c3b90>,\n",
       " <keras.src.layers.convolutional.conv2d.Conv2D at 0x1e0357be410>,\n",
       " <keras.src.layers.normalization.batch_normalization.BatchNormalization at 0x1e0357a1f50>,\n",
       " <keras.src.layers.merging.add.Add at 0x1e02d2cfa10>,\n",
       " <keras.src.layers.core.activation.Activation at 0x1e02d25edd0>,\n",
       " <keras.src.layers.convolutional.conv2d.Conv2D at 0x1e0357ead90>,\n",
       " <keras.src.layers.normalization.batch_normalization.BatchNormalization at 0x1e0357e91d0>,\n",
       " <keras.src.layers.core.activation.Activation at 0x1e0357e8490>,\n",
       " <keras.src.layers.convolutional.conv2d.Conv2D at 0x1e0357cf990>,\n",
       " <keras.src.layers.normalization.batch_normalization.BatchNormalization at 0x1e0357ea510>,\n",
       " <keras.src.layers.core.activation.Activation at 0x1e0357eaad0>,\n",
       " <keras.src.layers.convolutional.conv2d.Conv2D at 0x1e0357b29d0>,\n",
       " <keras.src.layers.normalization.batch_normalization.BatchNormalization at 0x1e0357bdfd0>,\n",
       " <keras.src.layers.merging.add.Add at 0x1e0357df190>,\n",
       " <keras.src.layers.core.activation.Activation at 0x1e0357a9650>]"
      ]
     },
     "execution_count": 11,
     "metadata": {},
     "output_type": "execute_result"
    }
   ],
   "source": [
    "resenet50.layers"
   ]
  },
  {
   "cell_type": "code",
   "execution_count": 14,
   "id": "18fe66b9",
   "metadata": {},
   "outputs": [],
   "source": [
    "for layer in resenet50.layers:\n",
    "   layer.trainable=False"
   ]
  },
  {
   "cell_type": "code",
   "execution_count": 16,
   "id": "a78f650b",
   "metadata": {},
   "outputs": [
    {
     "name": "stdout",
     "output_type": "stream",
     "text": [
      "input_2 False\n",
      "conv1_pad False\n",
      "conv1_conv False\n",
      "conv1_bn False\n",
      "conv1_relu False\n",
      "pool1_pad False\n",
      "pool1_pool False\n",
      "conv2_block1_1_conv False\n",
      "conv2_block1_1_bn False\n",
      "conv2_block1_1_relu False\n",
      "conv2_block1_2_conv False\n",
      "conv2_block1_2_bn False\n",
      "conv2_block1_2_relu False\n",
      "conv2_block1_0_conv False\n",
      "conv2_block1_3_conv False\n",
      "conv2_block1_0_bn False\n",
      "conv2_block1_3_bn False\n",
      "conv2_block1_add False\n",
      "conv2_block1_out False\n",
      "conv2_block2_1_conv False\n",
      "conv2_block2_1_bn False\n",
      "conv2_block2_1_relu False\n",
      "conv2_block2_2_conv False\n",
      "conv2_block2_2_bn False\n",
      "conv2_block2_2_relu False\n",
      "conv2_block2_3_conv False\n",
      "conv2_block2_3_bn False\n",
      "conv2_block2_add False\n",
      "conv2_block2_out False\n",
      "conv2_block3_1_conv False\n",
      "conv2_block3_1_bn False\n",
      "conv2_block3_1_relu False\n",
      "conv2_block3_2_conv False\n",
      "conv2_block3_2_bn False\n",
      "conv2_block3_2_relu False\n",
      "conv2_block3_3_conv False\n",
      "conv2_block3_3_bn False\n",
      "conv2_block3_add False\n",
      "conv2_block3_out False\n",
      "conv3_block1_1_conv False\n",
      "conv3_block1_1_bn False\n",
      "conv3_block1_1_relu False\n",
      "conv3_block1_2_conv False\n",
      "conv3_block1_2_bn False\n",
      "conv3_block1_2_relu False\n",
      "conv3_block1_0_conv False\n",
      "conv3_block1_3_conv False\n",
      "conv3_block1_0_bn False\n",
      "conv3_block1_3_bn False\n",
      "conv3_block1_add False\n",
      "conv3_block1_out False\n",
      "conv3_block2_1_conv False\n",
      "conv3_block2_1_bn False\n",
      "conv3_block2_1_relu False\n",
      "conv3_block2_2_conv False\n",
      "conv3_block2_2_bn False\n",
      "conv3_block2_2_relu False\n",
      "conv3_block2_3_conv False\n",
      "conv3_block2_3_bn False\n",
      "conv3_block2_add False\n",
      "conv3_block2_out False\n",
      "conv3_block3_1_conv False\n",
      "conv3_block3_1_bn False\n",
      "conv3_block3_1_relu False\n",
      "conv3_block3_2_conv False\n",
      "conv3_block3_2_bn False\n",
      "conv3_block3_2_relu False\n",
      "conv3_block3_3_conv False\n",
      "conv3_block3_3_bn False\n",
      "conv3_block3_add False\n",
      "conv3_block3_out False\n",
      "conv3_block4_1_conv False\n",
      "conv3_block4_1_bn False\n",
      "conv3_block4_1_relu False\n",
      "conv3_block4_2_conv False\n",
      "conv3_block4_2_bn False\n",
      "conv3_block4_2_relu False\n",
      "conv3_block4_3_conv False\n",
      "conv3_block4_3_bn False\n",
      "conv3_block4_add False\n",
      "conv3_block4_out False\n",
      "conv4_block1_1_conv False\n",
      "conv4_block1_1_bn False\n",
      "conv4_block1_1_relu False\n",
      "conv4_block1_2_conv False\n",
      "conv4_block1_2_bn False\n",
      "conv4_block1_2_relu False\n",
      "conv4_block1_0_conv False\n",
      "conv4_block1_3_conv False\n",
      "conv4_block1_0_bn False\n",
      "conv4_block1_3_bn False\n",
      "conv4_block1_add False\n",
      "conv4_block1_out False\n",
      "conv4_block2_1_conv False\n",
      "conv4_block2_1_bn False\n",
      "conv4_block2_1_relu False\n",
      "conv4_block2_2_conv False\n",
      "conv4_block2_2_bn False\n",
      "conv4_block2_2_relu False\n",
      "conv4_block2_3_conv False\n",
      "conv4_block2_3_bn False\n",
      "conv4_block2_add False\n",
      "conv4_block2_out False\n",
      "conv4_block3_1_conv False\n",
      "conv4_block3_1_bn False\n",
      "conv4_block3_1_relu False\n",
      "conv4_block3_2_conv False\n",
      "conv4_block3_2_bn False\n",
      "conv4_block3_2_relu False\n",
      "conv4_block3_3_conv False\n",
      "conv4_block3_3_bn False\n",
      "conv4_block3_add False\n",
      "conv4_block3_out False\n",
      "conv4_block4_1_conv False\n",
      "conv4_block4_1_bn False\n",
      "conv4_block4_1_relu False\n",
      "conv4_block4_2_conv False\n",
      "conv4_block4_2_bn False\n",
      "conv4_block4_2_relu False\n",
      "conv4_block4_3_conv False\n",
      "conv4_block4_3_bn False\n",
      "conv4_block4_add False\n",
      "conv4_block4_out False\n",
      "conv4_block5_1_conv False\n",
      "conv4_block5_1_bn False\n",
      "conv4_block5_1_relu False\n",
      "conv4_block5_2_conv False\n",
      "conv4_block5_2_bn False\n",
      "conv4_block5_2_relu False\n",
      "conv4_block5_3_conv False\n",
      "conv4_block5_3_bn False\n",
      "conv4_block5_add False\n",
      "conv4_block5_out False\n",
      "conv4_block6_1_conv False\n",
      "conv4_block6_1_bn False\n",
      "conv4_block6_1_relu False\n",
      "conv4_block6_2_conv False\n",
      "conv4_block6_2_bn False\n",
      "conv4_block6_2_relu False\n",
      "conv4_block6_3_conv False\n",
      "conv4_block6_3_bn False\n",
      "conv4_block6_add False\n",
      "conv4_block6_out False\n",
      "conv5_block1_1_conv False\n",
      "conv5_block1_1_bn False\n",
      "conv5_block1_1_relu False\n",
      "conv5_block1_2_conv False\n",
      "conv5_block1_2_bn False\n",
      "conv5_block1_2_relu False\n",
      "conv5_block1_0_conv False\n",
      "conv5_block1_3_conv False\n",
      "conv5_block1_0_bn False\n",
      "conv5_block1_3_bn False\n",
      "conv5_block1_add False\n",
      "conv5_block1_out False\n",
      "conv5_block2_1_conv False\n",
      "conv5_block2_1_bn False\n",
      "conv5_block2_1_relu False\n",
      "conv5_block2_2_conv False\n",
      "conv5_block2_2_bn False\n",
      "conv5_block2_2_relu False\n",
      "conv5_block2_3_conv False\n",
      "conv5_block2_3_bn False\n",
      "conv5_block2_add False\n",
      "conv5_block2_out False\n",
      "conv5_block3_1_conv False\n",
      "conv5_block3_1_bn False\n",
      "conv5_block3_1_relu False\n",
      "conv5_block3_2_conv False\n",
      "conv5_block3_2_bn False\n",
      "conv5_block3_2_relu False\n",
      "conv5_block3_3_conv False\n",
      "conv5_block3_3_bn False\n",
      "conv5_block3_add False\n",
      "conv5_block3_out False\n"
     ]
    }
   ],
   "source": [
    "for layer in resenet50.layers:\n",
    "    print(layer.name,layer.trainable)"
   ]
  },
  {
   "cell_type": "code",
   "execution_count": 17,
   "id": "7966dbef",
   "metadata": {},
   "outputs": [
    {
     "name": "stdout",
     "output_type": "stream",
     "text": [
      "Model: \"resnet50\"\n",
      "__________________________________________________________________________________________________\n",
      " Layer (type)                Output Shape                 Param #   Connected to                  \n",
      "==================================================================================================\n",
      " input_2 (InputLayer)        [(None, 224, 224, 3)]        0         []                            \n",
      "                                                                                                  \n",
      " conv1_pad (ZeroPadding2D)   (None, 230, 230, 3)          0         ['input_2[0][0]']             \n",
      "                                                                                                  \n",
      " conv1_conv (Conv2D)         (None, 112, 112, 64)         9472      ['conv1_pad[0][0]']           \n",
      "                                                                                                  \n",
      " conv1_bn (BatchNormalizati  (None, 112, 112, 64)         256       ['conv1_conv[0][0]']          \n",
      " on)                                                                                              \n",
      "                                                                                                  \n",
      " conv1_relu (Activation)     (None, 112, 112, 64)         0         ['conv1_bn[0][0]']            \n",
      "                                                                                                  \n",
      " pool1_pad (ZeroPadding2D)   (None, 114, 114, 64)         0         ['conv1_relu[0][0]']          \n",
      "                                                                                                  \n",
      " pool1_pool (MaxPooling2D)   (None, 56, 56, 64)           0         ['pool1_pad[0][0]']           \n",
      "                                                                                                  \n",
      " conv2_block1_1_conv (Conv2  (None, 56, 56, 64)           4160      ['pool1_pool[0][0]']          \n",
      " D)                                                                                               \n",
      "                                                                                                  \n",
      " conv2_block1_1_bn (BatchNo  (None, 56, 56, 64)           256       ['conv2_block1_1_conv[0][0]'] \n",
      " rmalization)                                                                                     \n",
      "                                                                                                  \n",
      " conv2_block1_1_relu (Activ  (None, 56, 56, 64)           0         ['conv2_block1_1_bn[0][0]']   \n",
      " ation)                                                                                           \n",
      "                                                                                                  \n",
      " conv2_block1_2_conv (Conv2  (None, 56, 56, 64)           36928     ['conv2_block1_1_relu[0][0]'] \n",
      " D)                                                                                               \n",
      "                                                                                                  \n",
      " conv2_block1_2_bn (BatchNo  (None, 56, 56, 64)           256       ['conv2_block1_2_conv[0][0]'] \n",
      " rmalization)                                                                                     \n",
      "                                                                                                  \n",
      " conv2_block1_2_relu (Activ  (None, 56, 56, 64)           0         ['conv2_block1_2_bn[0][0]']   \n",
      " ation)                                                                                           \n",
      "                                                                                                  \n",
      " conv2_block1_0_conv (Conv2  (None, 56, 56, 256)          16640     ['pool1_pool[0][0]']          \n",
      " D)                                                                                               \n",
      "                                                                                                  \n",
      " conv2_block1_3_conv (Conv2  (None, 56, 56, 256)          16640     ['conv2_block1_2_relu[0][0]'] \n",
      " D)                                                                                               \n",
      "                                                                                                  \n",
      " conv2_block1_0_bn (BatchNo  (None, 56, 56, 256)          1024      ['conv2_block1_0_conv[0][0]'] \n",
      " rmalization)                                                                                     \n",
      "                                                                                                  \n",
      " conv2_block1_3_bn (BatchNo  (None, 56, 56, 256)          1024      ['conv2_block1_3_conv[0][0]'] \n",
      " rmalization)                                                                                     \n",
      "                                                                                                  \n",
      " conv2_block1_add (Add)      (None, 56, 56, 256)          0         ['conv2_block1_0_bn[0][0]',   \n",
      "                                                                     'conv2_block1_3_bn[0][0]']   \n",
      "                                                                                                  \n",
      " conv2_block1_out (Activati  (None, 56, 56, 256)          0         ['conv2_block1_add[0][0]']    \n",
      " on)                                                                                              \n",
      "                                                                                                  \n",
      " conv2_block2_1_conv (Conv2  (None, 56, 56, 64)           16448     ['conv2_block1_out[0][0]']    \n",
      " D)                                                                                               \n",
      "                                                                                                  \n",
      " conv2_block2_1_bn (BatchNo  (None, 56, 56, 64)           256       ['conv2_block2_1_conv[0][0]'] \n",
      " rmalization)                                                                                     \n",
      "                                                                                                  \n",
      " conv2_block2_1_relu (Activ  (None, 56, 56, 64)           0         ['conv2_block2_1_bn[0][0]']   \n",
      " ation)                                                                                           \n",
      "                                                                                                  \n",
      " conv2_block2_2_conv (Conv2  (None, 56, 56, 64)           36928     ['conv2_block2_1_relu[0][0]'] \n",
      " D)                                                                                               \n",
      "                                                                                                  \n",
      " conv2_block2_2_bn (BatchNo  (None, 56, 56, 64)           256       ['conv2_block2_2_conv[0][0]'] \n",
      " rmalization)                                                                                     \n",
      "                                                                                                  \n",
      " conv2_block2_2_relu (Activ  (None, 56, 56, 64)           0         ['conv2_block2_2_bn[0][0]']   \n",
      " ation)                                                                                           \n",
      "                                                                                                  \n",
      " conv2_block2_3_conv (Conv2  (None, 56, 56, 256)          16640     ['conv2_block2_2_relu[0][0]'] \n",
      " D)                                                                                               \n",
      "                                                                                                  \n",
      " conv2_block2_3_bn (BatchNo  (None, 56, 56, 256)          1024      ['conv2_block2_3_conv[0][0]'] \n",
      " rmalization)                                                                                     \n",
      "                                                                                                  \n",
      " conv2_block2_add (Add)      (None, 56, 56, 256)          0         ['conv2_block1_out[0][0]',    \n",
      "                                                                     'conv2_block2_3_bn[0][0]']   \n",
      "                                                                                                  \n",
      " conv2_block2_out (Activati  (None, 56, 56, 256)          0         ['conv2_block2_add[0][0]']    \n",
      " on)                                                                                              \n"
     ]
    },
    {
     "name": "stdout",
     "output_type": "stream",
     "text": [
      "                                                                                                  \n",
      " conv2_block3_1_conv (Conv2  (None, 56, 56, 64)           16448     ['conv2_block2_out[0][0]']    \n",
      " D)                                                                                               \n",
      "                                                                                                  \n",
      " conv2_block3_1_bn (BatchNo  (None, 56, 56, 64)           256       ['conv2_block3_1_conv[0][0]'] \n",
      " rmalization)                                                                                     \n",
      "                                                                                                  \n",
      " conv2_block3_1_relu (Activ  (None, 56, 56, 64)           0         ['conv2_block3_1_bn[0][0]']   \n",
      " ation)                                                                                           \n",
      "                                                                                                  \n",
      " conv2_block3_2_conv (Conv2  (None, 56, 56, 64)           36928     ['conv2_block3_1_relu[0][0]'] \n",
      " D)                                                                                               \n",
      "                                                                                                  \n",
      " conv2_block3_2_bn (BatchNo  (None, 56, 56, 64)           256       ['conv2_block3_2_conv[0][0]'] \n",
      " rmalization)                                                                                     \n",
      "                                                                                                  \n",
      " conv2_block3_2_relu (Activ  (None, 56, 56, 64)           0         ['conv2_block3_2_bn[0][0]']   \n",
      " ation)                                                                                           \n",
      "                                                                                                  \n",
      " conv2_block3_3_conv (Conv2  (None, 56, 56, 256)          16640     ['conv2_block3_2_relu[0][0]'] \n",
      " D)                                                                                               \n",
      "                                                                                                  \n",
      " conv2_block3_3_bn (BatchNo  (None, 56, 56, 256)          1024      ['conv2_block3_3_conv[0][0]'] \n",
      " rmalization)                                                                                     \n",
      "                                                                                                  \n",
      " conv2_block3_add (Add)      (None, 56, 56, 256)          0         ['conv2_block2_out[0][0]',    \n",
      "                                                                     'conv2_block3_3_bn[0][0]']   \n",
      "                                                                                                  \n",
      " conv2_block3_out (Activati  (None, 56, 56, 256)          0         ['conv2_block3_add[0][0]']    \n",
      " on)                                                                                              \n",
      "                                                                                                  \n",
      " conv3_block1_1_conv (Conv2  (None, 28, 28, 128)          32896     ['conv2_block3_out[0][0]']    \n",
      " D)                                                                                               \n",
      "                                                                                                  \n",
      " conv3_block1_1_bn (BatchNo  (None, 28, 28, 128)          512       ['conv3_block1_1_conv[0][0]'] \n",
      " rmalization)                                                                                     \n",
      "                                                                                                  \n",
      " conv3_block1_1_relu (Activ  (None, 28, 28, 128)          0         ['conv3_block1_1_bn[0][0]']   \n",
      " ation)                                                                                           \n",
      "                                                                                                  \n",
      " conv3_block1_2_conv (Conv2  (None, 28, 28, 128)          147584    ['conv3_block1_1_relu[0][0]'] \n",
      " D)                                                                                               \n",
      "                                                                                                  \n",
      " conv3_block1_2_bn (BatchNo  (None, 28, 28, 128)          512       ['conv3_block1_2_conv[0][0]'] \n",
      " rmalization)                                                                                     \n",
      "                                                                                                  \n",
      " conv3_block1_2_relu (Activ  (None, 28, 28, 128)          0         ['conv3_block1_2_bn[0][0]']   \n",
      " ation)                                                                                           \n",
      "                                                                                                  \n",
      " conv3_block1_0_conv (Conv2  (None, 28, 28, 512)          131584    ['conv2_block3_out[0][0]']    \n",
      " D)                                                                                               \n",
      "                                                                                                  \n",
      " conv3_block1_3_conv (Conv2  (None, 28, 28, 512)          66048     ['conv3_block1_2_relu[0][0]'] \n",
      " D)                                                                                               \n",
      "                                                                                                  \n",
      " conv3_block1_0_bn (BatchNo  (None, 28, 28, 512)          2048      ['conv3_block1_0_conv[0][0]'] \n",
      " rmalization)                                                                                     \n",
      "                                                                                                  \n",
      " conv3_block1_3_bn (BatchNo  (None, 28, 28, 512)          2048      ['conv3_block1_3_conv[0][0]'] \n",
      " rmalization)                                                                                     \n",
      "                                                                                                  \n",
      " conv3_block1_add (Add)      (None, 28, 28, 512)          0         ['conv3_block1_0_bn[0][0]',   \n",
      "                                                                     'conv3_block1_3_bn[0][0]']   \n",
      "                                                                                                  \n",
      " conv3_block1_out (Activati  (None, 28, 28, 512)          0         ['conv3_block1_add[0][0]']    \n",
      " on)                                                                                              \n",
      "                                                                                                  \n",
      " conv3_block2_1_conv (Conv2  (None, 28, 28, 128)          65664     ['conv3_block1_out[0][0]']    \n",
      " D)                                                                                               \n",
      "                                                                                                  \n",
      " conv3_block2_1_bn (BatchNo  (None, 28, 28, 128)          512       ['conv3_block2_1_conv[0][0]'] \n",
      " rmalization)                                                                                     \n",
      "                                                                                                  \n",
      " conv3_block2_1_relu (Activ  (None, 28, 28, 128)          0         ['conv3_block2_1_bn[0][0]']   \n",
      " ation)                                                                                           \n",
      "                                                                                                  \n",
      " conv3_block2_2_conv (Conv2  (None, 28, 28, 128)          147584    ['conv3_block2_1_relu[0][0]'] \n",
      " D)                                                                                               \n",
      "                                                                                                  \n",
      " conv3_block2_2_bn (BatchNo  (None, 28, 28, 128)          512       ['conv3_block2_2_conv[0][0]'] \n",
      " rmalization)                                                                                     \n",
      "                                                                                                  \n",
      " conv3_block2_2_relu (Activ  (None, 28, 28, 128)          0         ['conv3_block2_2_bn[0][0]']   \n"
     ]
    },
    {
     "name": "stdout",
     "output_type": "stream",
     "text": [
      " ation)                                                                                           \n",
      "                                                                                                  \n",
      " conv3_block2_3_conv (Conv2  (None, 28, 28, 512)          66048     ['conv3_block2_2_relu[0][0]'] \n",
      " D)                                                                                               \n",
      "                                                                                                  \n",
      " conv3_block2_3_bn (BatchNo  (None, 28, 28, 512)          2048      ['conv3_block2_3_conv[0][0]'] \n",
      " rmalization)                                                                                     \n",
      "                                                                                                  \n",
      " conv3_block2_add (Add)      (None, 28, 28, 512)          0         ['conv3_block1_out[0][0]',    \n",
      "                                                                     'conv3_block2_3_bn[0][0]']   \n",
      "                                                                                                  \n",
      " conv3_block2_out (Activati  (None, 28, 28, 512)          0         ['conv3_block2_add[0][0]']    \n",
      " on)                                                                                              \n",
      "                                                                                                  \n",
      " conv3_block3_1_conv (Conv2  (None, 28, 28, 128)          65664     ['conv3_block2_out[0][0]']    \n",
      " D)                                                                                               \n",
      "                                                                                                  \n",
      " conv3_block3_1_bn (BatchNo  (None, 28, 28, 128)          512       ['conv3_block3_1_conv[0][0]'] \n",
      " rmalization)                                                                                     \n",
      "                                                                                                  \n",
      " conv3_block3_1_relu (Activ  (None, 28, 28, 128)          0         ['conv3_block3_1_bn[0][0]']   \n",
      " ation)                                                                                           \n",
      "                                                                                                  \n",
      " conv3_block3_2_conv (Conv2  (None, 28, 28, 128)          147584    ['conv3_block3_1_relu[0][0]'] \n",
      " D)                                                                                               \n",
      "                                                                                                  \n",
      " conv3_block3_2_bn (BatchNo  (None, 28, 28, 128)          512       ['conv3_block3_2_conv[0][0]'] \n",
      " rmalization)                                                                                     \n",
      "                                                                                                  \n",
      " conv3_block3_2_relu (Activ  (None, 28, 28, 128)          0         ['conv3_block3_2_bn[0][0]']   \n",
      " ation)                                                                                           \n",
      "                                                                                                  \n",
      " conv3_block3_3_conv (Conv2  (None, 28, 28, 512)          66048     ['conv3_block3_2_relu[0][0]'] \n",
      " D)                                                                                               \n",
      "                                                                                                  \n",
      " conv3_block3_3_bn (BatchNo  (None, 28, 28, 512)          2048      ['conv3_block3_3_conv[0][0]'] \n",
      " rmalization)                                                                                     \n",
      "                                                                                                  \n",
      " conv3_block3_add (Add)      (None, 28, 28, 512)          0         ['conv3_block2_out[0][0]',    \n",
      "                                                                     'conv3_block3_3_bn[0][0]']   \n",
      "                                                                                                  \n",
      " conv3_block3_out (Activati  (None, 28, 28, 512)          0         ['conv3_block3_add[0][0]']    \n",
      " on)                                                                                              \n",
      "                                                                                                  \n",
      " conv3_block4_1_conv (Conv2  (None, 28, 28, 128)          65664     ['conv3_block3_out[0][0]']    \n",
      " D)                                                                                               \n",
      "                                                                                                  \n",
      " conv3_block4_1_bn (BatchNo  (None, 28, 28, 128)          512       ['conv3_block4_1_conv[0][0]'] \n",
      " rmalization)                                                                                     \n",
      "                                                                                                  \n",
      " conv3_block4_1_relu (Activ  (None, 28, 28, 128)          0         ['conv3_block4_1_bn[0][0]']   \n",
      " ation)                                                                                           \n",
      "                                                                                                  \n",
      " conv3_block4_2_conv (Conv2  (None, 28, 28, 128)          147584    ['conv3_block4_1_relu[0][0]'] \n",
      " D)                                                                                               \n",
      "                                                                                                  \n",
      " conv3_block4_2_bn (BatchNo  (None, 28, 28, 128)          512       ['conv3_block4_2_conv[0][0]'] \n",
      " rmalization)                                                                                     \n",
      "                                                                                                  \n",
      " conv3_block4_2_relu (Activ  (None, 28, 28, 128)          0         ['conv3_block4_2_bn[0][0]']   \n",
      " ation)                                                                                           \n",
      "                                                                                                  \n",
      " conv3_block4_3_conv (Conv2  (None, 28, 28, 512)          66048     ['conv3_block4_2_relu[0][0]'] \n",
      " D)                                                                                               \n",
      "                                                                                                  \n",
      " conv3_block4_3_bn (BatchNo  (None, 28, 28, 512)          2048      ['conv3_block4_3_conv[0][0]'] \n",
      " rmalization)                                                                                     \n",
      "                                                                                                  \n",
      " conv3_block4_add (Add)      (None, 28, 28, 512)          0         ['conv3_block3_out[0][0]',    \n",
      "                                                                     'conv3_block4_3_bn[0][0]']   \n",
      "                                                                                                  \n",
      " conv3_block4_out (Activati  (None, 28, 28, 512)          0         ['conv3_block4_add[0][0]']    \n",
      " on)                                                                                              \n",
      "                                                                                                  \n",
      " conv4_block1_1_conv (Conv2  (None, 14, 14, 256)          131328    ['conv3_block4_out[0][0]']    \n",
      " D)                                                                                               \n",
      "                                                                                                  \n",
      " conv4_block1_1_bn (BatchNo  (None, 14, 14, 256)          1024      ['conv4_block1_1_conv[0][0]'] \n",
      " rmalization)                                                                                     \n",
      "                                                                                                  \n",
      " conv4_block1_1_relu (Activ  (None, 14, 14, 256)          0         ['conv4_block1_1_bn[0][0]']   \n",
      " ation)                                                                                           \n",
      "                                                                                                  \n"
     ]
    },
    {
     "name": "stdout",
     "output_type": "stream",
     "text": [
      " conv4_block1_2_conv (Conv2  (None, 14, 14, 256)          590080    ['conv4_block1_1_relu[0][0]'] \n",
      " D)                                                                                               \n",
      "                                                                                                  \n",
      " conv4_block1_2_bn (BatchNo  (None, 14, 14, 256)          1024      ['conv4_block1_2_conv[0][0]'] \n",
      " rmalization)                                                                                     \n",
      "                                                                                                  \n",
      " conv4_block1_2_relu (Activ  (None, 14, 14, 256)          0         ['conv4_block1_2_bn[0][0]']   \n",
      " ation)                                                                                           \n",
      "                                                                                                  \n",
      " conv4_block1_0_conv (Conv2  (None, 14, 14, 1024)         525312    ['conv3_block4_out[0][0]']    \n",
      " D)                                                                                               \n",
      "                                                                                                  \n",
      " conv4_block1_3_conv (Conv2  (None, 14, 14, 1024)         263168    ['conv4_block1_2_relu[0][0]'] \n",
      " D)                                                                                               \n",
      "                                                                                                  \n",
      " conv4_block1_0_bn (BatchNo  (None, 14, 14, 1024)         4096      ['conv4_block1_0_conv[0][0]'] \n",
      " rmalization)                                                                                     \n",
      "                                                                                                  \n",
      " conv4_block1_3_bn (BatchNo  (None, 14, 14, 1024)         4096      ['conv4_block1_3_conv[0][0]'] \n",
      " rmalization)                                                                                     \n",
      "                                                                                                  \n",
      " conv4_block1_add (Add)      (None, 14, 14, 1024)         0         ['conv4_block1_0_bn[0][0]',   \n",
      "                                                                     'conv4_block1_3_bn[0][0]']   \n",
      "                                                                                                  \n",
      " conv4_block1_out (Activati  (None, 14, 14, 1024)         0         ['conv4_block1_add[0][0]']    \n",
      " on)                                                                                              \n",
      "                                                                                                  \n",
      " conv4_block2_1_conv (Conv2  (None, 14, 14, 256)          262400    ['conv4_block1_out[0][0]']    \n",
      " D)                                                                                               \n",
      "                                                                                                  \n",
      " conv4_block2_1_bn (BatchNo  (None, 14, 14, 256)          1024      ['conv4_block2_1_conv[0][0]'] \n",
      " rmalization)                                                                                     \n",
      "                                                                                                  \n",
      " conv4_block2_1_relu (Activ  (None, 14, 14, 256)          0         ['conv4_block2_1_bn[0][0]']   \n",
      " ation)                                                                                           \n",
      "                                                                                                  \n",
      " conv4_block2_2_conv (Conv2  (None, 14, 14, 256)          590080    ['conv4_block2_1_relu[0][0]'] \n",
      " D)                                                                                               \n",
      "                                                                                                  \n",
      " conv4_block2_2_bn (BatchNo  (None, 14, 14, 256)          1024      ['conv4_block2_2_conv[0][0]'] \n",
      " rmalization)                                                                                     \n",
      "                                                                                                  \n",
      " conv4_block2_2_relu (Activ  (None, 14, 14, 256)          0         ['conv4_block2_2_bn[0][0]']   \n",
      " ation)                                                                                           \n",
      "                                                                                                  \n",
      " conv4_block2_3_conv (Conv2  (None, 14, 14, 1024)         263168    ['conv4_block2_2_relu[0][0]'] \n",
      " D)                                                                                               \n",
      "                                                                                                  \n",
      " conv4_block2_3_bn (BatchNo  (None, 14, 14, 1024)         4096      ['conv4_block2_3_conv[0][0]'] \n",
      " rmalization)                                                                                     \n",
      "                                                                                                  \n",
      " conv4_block2_add (Add)      (None, 14, 14, 1024)         0         ['conv4_block1_out[0][0]',    \n",
      "                                                                     'conv4_block2_3_bn[0][0]']   \n",
      "                                                                                                  \n",
      " conv4_block2_out (Activati  (None, 14, 14, 1024)         0         ['conv4_block2_add[0][0]']    \n",
      " on)                                                                                              \n",
      "                                                                                                  \n",
      " conv4_block3_1_conv (Conv2  (None, 14, 14, 256)          262400    ['conv4_block2_out[0][0]']    \n",
      " D)                                                                                               \n",
      "                                                                                                  \n",
      " conv4_block3_1_bn (BatchNo  (None, 14, 14, 256)          1024      ['conv4_block3_1_conv[0][0]'] \n",
      " rmalization)                                                                                     \n",
      "                                                                                                  \n",
      " conv4_block3_1_relu (Activ  (None, 14, 14, 256)          0         ['conv4_block3_1_bn[0][0]']   \n",
      " ation)                                                                                           \n",
      "                                                                                                  \n",
      " conv4_block3_2_conv (Conv2  (None, 14, 14, 256)          590080    ['conv4_block3_1_relu[0][0]'] \n",
      " D)                                                                                               \n",
      "                                                                                                  \n",
      " conv4_block3_2_bn (BatchNo  (None, 14, 14, 256)          1024      ['conv4_block3_2_conv[0][0]'] \n",
      " rmalization)                                                                                     \n",
      "                                                                                                  \n",
      " conv4_block3_2_relu (Activ  (None, 14, 14, 256)          0         ['conv4_block3_2_bn[0][0]']   \n",
      " ation)                                                                                           \n",
      "                                                                                                  \n",
      " conv4_block3_3_conv (Conv2  (None, 14, 14, 1024)         263168    ['conv4_block3_2_relu[0][0]'] \n",
      " D)                                                                                               \n",
      "                                                                                                  \n",
      " conv4_block3_3_bn (BatchNo  (None, 14, 14, 1024)         4096      ['conv4_block3_3_conv[0][0]'] \n",
      " rmalization)                                                                                     \n",
      "                                                                                                  \n",
      " conv4_block3_add (Add)      (None, 14, 14, 1024)         0         ['conv4_block2_out[0][0]',    \n",
      "                                                                     'conv4_block3_3_bn[0][0]']   \n"
     ]
    },
    {
     "name": "stdout",
     "output_type": "stream",
     "text": [
      "                                                                                                  \n",
      " conv4_block3_out (Activati  (None, 14, 14, 1024)         0         ['conv4_block3_add[0][0]']    \n",
      " on)                                                                                              \n",
      "                                                                                                  \n",
      " conv4_block4_1_conv (Conv2  (None, 14, 14, 256)          262400    ['conv4_block3_out[0][0]']    \n",
      " D)                                                                                               \n",
      "                                                                                                  \n",
      " conv4_block4_1_bn (BatchNo  (None, 14, 14, 256)          1024      ['conv4_block4_1_conv[0][0]'] \n",
      " rmalization)                                                                                     \n",
      "                                                                                                  \n",
      " conv4_block4_1_relu (Activ  (None, 14, 14, 256)          0         ['conv4_block4_1_bn[0][0]']   \n",
      " ation)                                                                                           \n",
      "                                                                                                  \n",
      " conv4_block4_2_conv (Conv2  (None, 14, 14, 256)          590080    ['conv4_block4_1_relu[0][0]'] \n",
      " D)                                                                                               \n",
      "                                                                                                  \n",
      " conv4_block4_2_bn (BatchNo  (None, 14, 14, 256)          1024      ['conv4_block4_2_conv[0][0]'] \n",
      " rmalization)                                                                                     \n",
      "                                                                                                  \n",
      " conv4_block4_2_relu (Activ  (None, 14, 14, 256)          0         ['conv4_block4_2_bn[0][0]']   \n",
      " ation)                                                                                           \n",
      "                                                                                                  \n",
      " conv4_block4_3_conv (Conv2  (None, 14, 14, 1024)         263168    ['conv4_block4_2_relu[0][0]'] \n",
      " D)                                                                                               \n",
      "                                                                                                  \n",
      " conv4_block4_3_bn (BatchNo  (None, 14, 14, 1024)         4096      ['conv4_block4_3_conv[0][0]'] \n",
      " rmalization)                                                                                     \n",
      "                                                                                                  \n",
      " conv4_block4_add (Add)      (None, 14, 14, 1024)         0         ['conv4_block3_out[0][0]',    \n",
      "                                                                     'conv4_block4_3_bn[0][0]']   \n",
      "                                                                                                  \n",
      " conv4_block4_out (Activati  (None, 14, 14, 1024)         0         ['conv4_block4_add[0][0]']    \n",
      " on)                                                                                              \n",
      "                                                                                                  \n",
      " conv4_block5_1_conv (Conv2  (None, 14, 14, 256)          262400    ['conv4_block4_out[0][0]']    \n",
      " D)                                                                                               \n",
      "                                                                                                  \n",
      " conv4_block5_1_bn (BatchNo  (None, 14, 14, 256)          1024      ['conv4_block5_1_conv[0][0]'] \n",
      " rmalization)                                                                                     \n",
      "                                                                                                  \n",
      " conv4_block5_1_relu (Activ  (None, 14, 14, 256)          0         ['conv4_block5_1_bn[0][0]']   \n",
      " ation)                                                                                           \n",
      "                                                                                                  \n",
      " conv4_block5_2_conv (Conv2  (None, 14, 14, 256)          590080    ['conv4_block5_1_relu[0][0]'] \n",
      " D)                                                                                               \n",
      "                                                                                                  \n",
      " conv4_block5_2_bn (BatchNo  (None, 14, 14, 256)          1024      ['conv4_block5_2_conv[0][0]'] \n",
      " rmalization)                                                                                     \n",
      "                                                                                                  \n",
      " conv4_block5_2_relu (Activ  (None, 14, 14, 256)          0         ['conv4_block5_2_bn[0][0]']   \n",
      " ation)                                                                                           \n",
      "                                                                                                  \n",
      " conv4_block5_3_conv (Conv2  (None, 14, 14, 1024)         263168    ['conv4_block5_2_relu[0][0]'] \n",
      " D)                                                                                               \n",
      "                                                                                                  \n",
      " conv4_block5_3_bn (BatchNo  (None, 14, 14, 1024)         4096      ['conv4_block5_3_conv[0][0]'] \n",
      " rmalization)                                                                                     \n",
      "                                                                                                  \n",
      " conv4_block5_add (Add)      (None, 14, 14, 1024)         0         ['conv4_block4_out[0][0]',    \n",
      "                                                                     'conv4_block5_3_bn[0][0]']   \n",
      "                                                                                                  \n",
      " conv4_block5_out (Activati  (None, 14, 14, 1024)         0         ['conv4_block5_add[0][0]']    \n",
      " on)                                                                                              \n",
      "                                                                                                  \n",
      " conv4_block6_1_conv (Conv2  (None, 14, 14, 256)          262400    ['conv4_block5_out[0][0]']    \n",
      " D)                                                                                               \n",
      "                                                                                                  \n",
      " conv4_block6_1_bn (BatchNo  (None, 14, 14, 256)          1024      ['conv4_block6_1_conv[0][0]'] \n",
      " rmalization)                                                                                     \n",
      "                                                                                                  \n",
      " conv4_block6_1_relu (Activ  (None, 14, 14, 256)          0         ['conv4_block6_1_bn[0][0]']   \n",
      " ation)                                                                                           \n",
      "                                                                                                  \n",
      " conv4_block6_2_conv (Conv2  (None, 14, 14, 256)          590080    ['conv4_block6_1_relu[0][0]'] \n",
      " D)                                                                                               \n",
      "                                                                                                  \n",
      " conv4_block6_2_bn (BatchNo  (None, 14, 14, 256)          1024      ['conv4_block6_2_conv[0][0]'] \n",
      " rmalization)                                                                                     \n",
      "                                                                                                  \n",
      " conv4_block6_2_relu (Activ  (None, 14, 14, 256)          0         ['conv4_block6_2_bn[0][0]']   \n",
      " ation)                                                                                           \n",
      "                                                                                                  \n",
      " conv4_block6_3_conv (Conv2  (None, 14, 14, 1024)         263168    ['conv4_block6_2_relu[0][0]'] \n"
     ]
    },
    {
     "name": "stdout",
     "output_type": "stream",
     "text": [
      " D)                                                                                               \n",
      "                                                                                                  \n",
      " conv4_block6_3_bn (BatchNo  (None, 14, 14, 1024)         4096      ['conv4_block6_3_conv[0][0]'] \n",
      " rmalization)                                                                                     \n",
      "                                                                                                  \n",
      " conv4_block6_add (Add)      (None, 14, 14, 1024)         0         ['conv4_block5_out[0][0]',    \n",
      "                                                                     'conv4_block6_3_bn[0][0]']   \n",
      "                                                                                                  \n",
      " conv4_block6_out (Activati  (None, 14, 14, 1024)         0         ['conv4_block6_add[0][0]']    \n",
      " on)                                                                                              \n",
      "                                                                                                  \n",
      " conv5_block1_1_conv (Conv2  (None, 7, 7, 512)            524800    ['conv4_block6_out[0][0]']    \n",
      " D)                                                                                               \n",
      "                                                                                                  \n",
      " conv5_block1_1_bn (BatchNo  (None, 7, 7, 512)            2048      ['conv5_block1_1_conv[0][0]'] \n",
      " rmalization)                                                                                     \n",
      "                                                                                                  \n",
      " conv5_block1_1_relu (Activ  (None, 7, 7, 512)            0         ['conv5_block1_1_bn[0][0]']   \n",
      " ation)                                                                                           \n",
      "                                                                                                  \n",
      " conv5_block1_2_conv (Conv2  (None, 7, 7, 512)            2359808   ['conv5_block1_1_relu[0][0]'] \n",
      " D)                                                                                               \n",
      "                                                                                                  \n",
      " conv5_block1_2_bn (BatchNo  (None, 7, 7, 512)            2048      ['conv5_block1_2_conv[0][0]'] \n",
      " rmalization)                                                                                     \n",
      "                                                                                                  \n",
      " conv5_block1_2_relu (Activ  (None, 7, 7, 512)            0         ['conv5_block1_2_bn[0][0]']   \n",
      " ation)                                                                                           \n",
      "                                                                                                  \n",
      " conv5_block1_0_conv (Conv2  (None, 7, 7, 2048)           2099200   ['conv4_block6_out[0][0]']    \n",
      " D)                                                                                               \n",
      "                                                                                                  \n",
      " conv5_block1_3_conv (Conv2  (None, 7, 7, 2048)           1050624   ['conv5_block1_2_relu[0][0]'] \n",
      " D)                                                                                               \n",
      "                                                                                                  \n",
      " conv5_block1_0_bn (BatchNo  (None, 7, 7, 2048)           8192      ['conv5_block1_0_conv[0][0]'] \n",
      " rmalization)                                                                                     \n",
      "                                                                                                  \n",
      " conv5_block1_3_bn (BatchNo  (None, 7, 7, 2048)           8192      ['conv5_block1_3_conv[0][0]'] \n",
      " rmalization)                                                                                     \n",
      "                                                                                                  \n",
      " conv5_block1_add (Add)      (None, 7, 7, 2048)           0         ['conv5_block1_0_bn[0][0]',   \n",
      "                                                                     'conv5_block1_3_bn[0][0]']   \n",
      "                                                                                                  \n",
      " conv5_block1_out (Activati  (None, 7, 7, 2048)           0         ['conv5_block1_add[0][0]']    \n",
      " on)                                                                                              \n",
      "                                                                                                  \n",
      " conv5_block2_1_conv (Conv2  (None, 7, 7, 512)            1049088   ['conv5_block1_out[0][0]']    \n",
      " D)                                                                                               \n",
      "                                                                                                  \n",
      " conv5_block2_1_bn (BatchNo  (None, 7, 7, 512)            2048      ['conv5_block2_1_conv[0][0]'] \n",
      " rmalization)                                                                                     \n",
      "                                                                                                  \n",
      " conv5_block2_1_relu (Activ  (None, 7, 7, 512)            0         ['conv5_block2_1_bn[0][0]']   \n",
      " ation)                                                                                           \n",
      "                                                                                                  \n",
      " conv5_block2_2_conv (Conv2  (None, 7, 7, 512)            2359808   ['conv5_block2_1_relu[0][0]'] \n",
      " D)                                                                                               \n",
      "                                                                                                  \n",
      " conv5_block2_2_bn (BatchNo  (None, 7, 7, 512)            2048      ['conv5_block2_2_conv[0][0]'] \n",
      " rmalization)                                                                                     \n",
      "                                                                                                  \n",
      " conv5_block2_2_relu (Activ  (None, 7, 7, 512)            0         ['conv5_block2_2_bn[0][0]']   \n",
      " ation)                                                                                           \n",
      "                                                                                                  \n",
      " conv5_block2_3_conv (Conv2  (None, 7, 7, 2048)           1050624   ['conv5_block2_2_relu[0][0]'] \n",
      " D)                                                                                               \n",
      "                                                                                                  \n",
      " conv5_block2_3_bn (BatchNo  (None, 7, 7, 2048)           8192      ['conv5_block2_3_conv[0][0]'] \n",
      " rmalization)                                                                                     \n",
      "                                                                                                  \n",
      " conv5_block2_add (Add)      (None, 7, 7, 2048)           0         ['conv5_block1_out[0][0]',    \n",
      "                                                                     'conv5_block2_3_bn[0][0]']   \n",
      "                                                                                                  \n",
      " conv5_block2_out (Activati  (None, 7, 7, 2048)           0         ['conv5_block2_add[0][0]']    \n",
      " on)                                                                                              \n",
      "                                                                                                  \n",
      " conv5_block3_1_conv (Conv2  (None, 7, 7, 512)            1049088   ['conv5_block2_out[0][0]']    \n",
      " D)                                                                                               \n",
      "                                                                                                  \n",
      " conv5_block3_1_bn (BatchNo  (None, 7, 7, 512)            2048      ['conv5_block3_1_conv[0][0]'] \n",
      " rmalization)                                                                                     \n",
      "                                                                                                  \n"
     ]
    },
    {
     "name": "stdout",
     "output_type": "stream",
     "text": [
      " conv5_block3_1_relu (Activ  (None, 7, 7, 512)            0         ['conv5_block3_1_bn[0][0]']   \n",
      " ation)                                                                                           \n",
      "                                                                                                  \n",
      " conv5_block3_2_conv (Conv2  (None, 7, 7, 512)            2359808   ['conv5_block3_1_relu[0][0]'] \n",
      " D)                                                                                               \n",
      "                                                                                                  \n",
      " conv5_block3_2_bn (BatchNo  (None, 7, 7, 512)            2048      ['conv5_block3_2_conv[0][0]'] \n",
      " rmalization)                                                                                     \n",
      "                                                                                                  \n",
      " conv5_block3_2_relu (Activ  (None, 7, 7, 512)            0         ['conv5_block3_2_bn[0][0]']   \n",
      " ation)                                                                                           \n",
      "                                                                                                  \n",
      " conv5_block3_3_conv (Conv2  (None, 7, 7, 2048)           1050624   ['conv5_block3_2_relu[0][0]'] \n",
      " D)                                                                                               \n",
      "                                                                                                  \n",
      " conv5_block3_3_bn (BatchNo  (None, 7, 7, 2048)           8192      ['conv5_block3_3_conv[0][0]'] \n",
      " rmalization)                                                                                     \n",
      "                                                                                                  \n",
      " conv5_block3_add (Add)      (None, 7, 7, 2048)           0         ['conv5_block2_out[0][0]',    \n",
      "                                                                     'conv5_block3_3_bn[0][0]']   \n",
      "                                                                                                  \n",
      " conv5_block3_out (Activati  (None, 7, 7, 2048)           0         ['conv5_block3_add[0][0]']    \n",
      " on)                                                                                              \n",
      "                                                                                                  \n",
      "==================================================================================================\n",
      "Total params: 23587712 (89.98 MB)\n",
      "Trainable params: 0 (0.00 Byte)\n",
      "Non-trainable params: 23587712 (89.98 MB)\n",
      "__________________________________________________________________________________________________\n"
     ]
    }
   ],
   "source": [
    "resenet50.summary()"
   ]
  },
  {
   "cell_type": "code",
   "execution_count": 18,
   "id": "74707991",
   "metadata": {},
   "outputs": [],
   "source": [
    "folders = glob('flowers/train/*')"
   ]
  },
  {
   "cell_type": "code",
   "execution_count": 19,
   "id": "bbd71e2f",
   "metadata": {},
   "outputs": [
    {
     "data": {
      "text/plain": [
       "['flowers/train\\\\daisy',\n",
       " 'flowers/train\\\\dandelion',\n",
       " 'flowers/train\\\\rose',\n",
       " 'flowers/train\\\\sunflower',\n",
       " 'flowers/train\\\\tulip']"
      ]
     },
     "execution_count": 19,
     "metadata": {},
     "output_type": "execute_result"
    }
   ],
   "source": [
    "folders"
   ]
  },
  {
   "cell_type": "code",
   "execution_count": 20,
   "id": "4d02ec0b",
   "metadata": {},
   "outputs": [],
   "source": [
    "model=Sequential()\n",
    "model.add(resenet50)\n",
    "model.add(Flatten())\n",
    "model.add(Dense(256,activation='relu'))\n",
    "model.add(Dense(5,activation='softmax'))"
   ]
  },
  {
   "cell_type": "code",
   "execution_count": 21,
   "id": "d58a5862",
   "metadata": {},
   "outputs": [
    {
     "name": "stdout",
     "output_type": "stream",
     "text": [
      "Model: \"sequential\"\n",
      "_________________________________________________________________\n",
      " Layer (type)                Output Shape              Param #   \n",
      "=================================================================\n",
      " resnet50 (Functional)       (None, 7, 7, 2048)        23587712  \n",
      "                                                                 \n",
      " flatten (Flatten)           (None, 100352)            0         \n",
      "                                                                 \n",
      " dense (Dense)               (None, 256)               25690368  \n",
      "                                                                 \n",
      " dense_1 (Dense)             (None, 5)                 1285      \n",
      "                                                                 \n",
      "=================================================================\n",
      "Total params: 49279365 (187.99 MB)\n",
      "Trainable params: 25691653 (98.01 MB)\n",
      "Non-trainable params: 23587712 (89.98 MB)\n",
      "_________________________________________________________________\n"
     ]
    }
   ],
   "source": [
    "model.summary()"
   ]
  },
  {
   "cell_type": "code",
   "execution_count": 23,
   "id": "b67d68cd",
   "metadata": {},
   "outputs": [
    {
     "name": "stdout",
     "output_type": "stream",
     "text": [
      "WARNING:tensorflow:From C:\\Users\\ASUS ZenBook\\AppData\\Roaming\\Python\\Python311\\site-packages\\keras\\src\\optimizers\\__init__.py:309: The name tf.train.Optimizer is deprecated. Please use tf.compat.v1.train.Optimizer instead.\n",
      "\n"
     ]
    }
   ],
   "source": [
    "model.compile(\n",
    "  loss='categorical_crossentropy',\n",
    "  optimizer='adam',\n",
    "  metrics=['accuracy']\n",
    ")"
   ]
  },
  {
   "cell_type": "code",
   "execution_count": 25,
   "id": "c09f968e",
   "metadata": {},
   "outputs": [],
   "source": [
    "train_datagen=ImageDataGenerator(rescale=1./255,\n",
    "                                shear_range=0.2,\n",
    "                                zoom_range=0.2,\n",
    "                                horizontal_flip=True)\n",
    "test_datagen=ImageDataGenerator(rescale=1./255)"
   ]
  },
  {
   "cell_type": "code",
   "execution_count": 26,
   "id": "b4caf883",
   "metadata": {},
   "outputs": [
    {
     "name": "stdout",
     "output_type": "stream",
     "text": [
      "Found 498 images belonging to 5 classes.\n"
     ]
    }
   ],
   "source": [
    "training_set=train_datagen.flow_from_directory('flowers/train',\n",
    "                                              target_size=(224,224),\n",
    "                                              batch_size=32,\n",
    "                                              class_mode='categorical')"
   ]
  },
  {
   "cell_type": "code",
   "execution_count": 27,
   "id": "fd64bc5d",
   "metadata": {},
   "outputs": [
    {
     "name": "stdout",
     "output_type": "stream",
     "text": [
      "Found 300 images belonging to 5 classes.\n"
     ]
    }
   ],
   "source": [
    "test_set=test_datagen.flow_from_directory('flowers/validation',\n",
    "                                         target_size=(224,224),\n",
    "                                         batch_size=32,\n",
    "                                         class_mode='categorical')"
   ]
  },
  {
   "cell_type": "code",
   "execution_count": 28,
   "id": "e1425f06",
   "metadata": {},
   "outputs": [
    {
     "name": "stdout",
     "output_type": "stream",
     "text": [
      "Epoch 1/10\n",
      "WARNING:tensorflow:From C:\\Users\\ASUS ZenBook\\AppData\\Roaming\\Python\\Python311\\site-packages\\keras\\src\\utils\\tf_utils.py:492: The name tf.ragged.RaggedTensorValue is deprecated. Please use tf.compat.v1.ragged.RaggedTensorValue instead.\n",
      "\n",
      "WARNING:tensorflow:From C:\\Users\\ASUS ZenBook\\AppData\\Roaming\\Python\\Python311\\site-packages\\keras\\src\\engine\\base_layer_utils.py:384: The name tf.executing_eagerly_outside_functions is deprecated. Please use tf.compat.v1.executing_eagerly_outside_functions instead.\n",
      "\n",
      "16/16 [==============================] - 54s 3s/step - loss: 14.7089 - accuracy: 0.2289 - val_loss: 11.3893 - val_accuracy: 0.2600\n",
      "Epoch 2/10\n",
      "16/16 [==============================] - 40s 2s/step - loss: 4.2014 - accuracy: 0.2711 - val_loss: 2.7171 - val_accuracy: 0.3300\n",
      "Epoch 3/10\n",
      "16/16 [==============================] - 39s 2s/step - loss: 1.6901 - accuracy: 0.3815 - val_loss: 2.3439 - val_accuracy: 0.2900\n",
      "Epoch 4/10\n",
      "16/16 [==============================] - 38s 2s/step - loss: 1.5709 - accuracy: 0.3735 - val_loss: 2.1334 - val_accuracy: 0.2567\n",
      "Epoch 5/10\n",
      "16/16 [==============================] - 39s 2s/step - loss: 1.7652 - accuracy: 0.3675 - val_loss: 2.5898 - val_accuracy: 0.2467\n",
      "Epoch 6/10\n",
      "16/16 [==============================] - 40s 2s/step - loss: 1.9369 - accuracy: 0.3414 - val_loss: 2.5550 - val_accuracy: 0.2533\n",
      "Epoch 7/10\n",
      "16/16 [==============================] - 39s 2s/step - loss: 1.4922 - accuracy: 0.4337 - val_loss: 1.8008 - val_accuracy: 0.3733\n",
      "Epoch 8/10\n",
      "16/16 [==============================] - 39s 2s/step - loss: 1.4055 - accuracy: 0.4458 - val_loss: 2.2090 - val_accuracy: 0.3400\n",
      "Epoch 9/10\n",
      "16/16 [==============================] - 39s 2s/step - loss: 1.6314 - accuracy: 0.4398 - val_loss: 1.9746 - val_accuracy: 0.3233\n",
      "Epoch 10/10\n",
      "16/16 [==============================] - 39s 2s/step - loss: 1.6212 - accuracy: 0.4779 - val_loss: 1.7154 - val_accuracy: 0.3833\n"
     ]
    }
   ],
   "source": [
    "r=model.fit(training_set,epochs=10,validation_data=test_set,steps_per_epoch=len(training_set),validation_steps=len(test_set))"
   ]
  },
  {
   "cell_type": "code",
   "execution_count": 29,
   "id": "55dfddd9",
   "metadata": {},
   "outputs": [],
   "source": [
    "import matplotlib.pyplot as plt"
   ]
  },
  {
   "cell_type": "code",
   "execution_count": 30,
   "id": "3d812f2c",
   "metadata": {},
   "outputs": [
    {
     "data": {
      "image/png": "[encoded data removed]",
      "text/plain": [
       "<Figure size 640x480 with 1 Axes>"
      ]
     },
     "metadata": {},
     "output_type": "display_data"
    },
    {
     "data": {
      "text/plain": [
       "<Figure size 640x480 with 0 Axes>"
      ]
     },
     "metadata": {},
     "output_type": "display_data"
    }
   ],
   "source": [
    "plt.plot(r.history['loss'], label='train loss')\n",
    "plt.plot(r.history['val_loss'], label='val loss')\n",
    "plt.legend()\n",
    "plt.show()\n",
    "plt.savefig('LossVal_loss')"
   ]
  },
  {
   "cell_type": "code",
   "execution_count": 32,
   "id": "b4c10c20",
   "metadata": {},
   "outputs": [
    {
     "data": {
      "image/png": "[encoded data removed]",
      "text/plain": [
       "<Figure size 640x480 with 1 Axes>"
      ]
     },
     "metadata": {},
     "output_type": "display_data"
    },
    {
     "data": {
      "text/plain": [
       "<Figure size 640x480 with 0 Axes>"
      ]
     },
     "metadata": {},
     "output_type": "display_data"
    }
   ],
   "source": [
    "plt.plot(r.history['accuracy'], label='train acc')\n",
    "plt.plot(r.history['val_accuracy'], label='val acc')\n",
    "plt.legend()\n",
    "plt.show()\n",
    "plt.savefig('AccVal_acc')"
   ]
  },
  {
   "cell_type": "code",
   "execution_count": 33,
   "id": "62db151a",
   "metadata": {},
   "outputs": [
    {
     "name": "stderr",
     "output_type": "stream",
     "text": [
      "C:\\Users\\ASUS ZenBook\\AppData\\Roaming\\Python\\Python311\\site-packages\\keras\\src\\engine\\training.py:3103: UserWarning: You are saving your model as an HDF5 file via `model.save()`. This file format is considered legacy. We recommend using instead the native Keras format, e.g. `model.save('my_model.keras')`.\n",
      "  saving_api.save_model(\n"
     ]
    }
   ],
   "source": [
    "from tensorflow.keras.models import load_model\n",
    "\n",
    "model.save('model_resnet50.h5')"
   ]
  },
  {
   "cell_type": "code",
   "execution_count": 34,
   "id": "7562a1d8",
   "metadata": {},
   "outputs": [
    {
     "name": "stdout",
     "output_type": "stream",
     "text": [
      "10/10 [==============================] - 16s 1s/step\n"
     ]
    }
   ],
   "source": [
    "y_pred = model.predict(test_set)"
   ]
  },
  {
   "cell_type": "code",
   "execution_count": 35,
   "id": "cc1ad6eb",
   "metadata": {},
   "outputs": [
    {
     "data": {
      "text/plain": [
       "array([[0.26747063, 0.02632988, 0.43692032, 0.22322953, 0.0460497 ],\n",
       "       [0.04833633, 0.05345517, 0.04351892, 0.84384316, 0.01084629],\n",
       "       [0.6245615 , 0.05783005, 0.13082415, 0.11773083, 0.06905348],\n",
       "       ...,\n",
       "       [0.205966  , 0.33393496, 0.18522793, 0.13760811, 0.13726297],\n",
       "       [0.37171125, 0.42544582, 0.06593319, 0.01908461, 0.11782516],\n",
       "       [0.00926773, 0.6071601 , 0.04121348, 0.3244379 , 0.01792077]],\n",
       "      dtype=float32)"
      ]
     },
     "execution_count": 35,
     "metadata": {},
     "output_type": "execute_result"
    }
   ],
   "source": [
    "y_pred"
   ]
  },
  {
   "cell_type": "code",
   "execution_count": 36,
   "id": "1dfafa1a",
   "metadata": {},
   "outputs": [
    {
     "data": {
      "text/plain": [
       "array([2, 3, 0, 0, 0, 1, 0, 3, 3, 3, 0, 3, 2, 0, 0, 1, 1, 3, 0, 3, 0, 0,\n",
       "       3, 3, 3, 3, 0, 0, 1, 3, 3, 0, 1, 0, 0, 3, 3, 1, 3, 0, 0, 1, 3, 0,\n",
       "       1, 0, 2, 1, 1, 0, 1, 0, 0, 0, 3, 3, 0, 1, 1, 3, 3, 3, 1, 0, 3, 3,\n",
       "       0, 0, 0, 0, 0, 3, 0, 3, 3, 0, 0, 0, 0, 1, 0, 3, 2, 2, 0, 1, 3, 1,\n",
       "       3, 0, 0, 0, 3, 3, 0, 0, 0, 1, 3, 1, 1, 3, 1, 0, 3, 3, 0, 0, 1, 3,\n",
       "       1, 3, 0, 3, 1, 2, 3, 1, 0, 3, 0, 1, 1, 3, 1, 3, 0, 2, 3, 1, 0, 1,\n",
       "       1, 1, 3, 3, 3, 3, 1, 0, 3, 3, 2, 1, 0, 1, 0, 3, 3, 3, 0, 0, 0, 3,\n",
       "       3, 1, 1, 3, 0, 3, 0, 0, 3, 3, 0, 0, 0, 3, 3, 0, 3, 2, 0, 2, 0, 2,\n",
       "       0, 3, 1, 3, 0, 0, 1, 0, 0, 0, 2, 3, 3, 0, 0, 0, 0, 3, 1, 0, 0, 2,\n",
       "       3, 1, 3, 3, 0, 3, 1, 3, 3, 0, 1, 3, 3, 0, 0, 0, 0, 3, 0, 3, 0, 3,\n",
       "       1, 0, 2, 1, 3, 3, 1, 0, 0, 3, 3, 1, 3, 0, 0, 3, 0, 3, 1, 0, 0, 1,\n",
       "       0, 0, 1, 3, 1, 1, 3, 3, 0, 0, 3, 3, 0, 3, 1, 0, 0, 3, 0, 1, 1, 3,\n",
       "       0, 0, 0, 0, 3, 1, 3, 0, 0, 1, 3, 0, 3, 3, 0, 3, 3, 1, 3, 3, 1, 3,\n",
       "       1, 1, 1, 3, 0, 3, 3, 0, 3, 0, 0, 1, 1, 1], dtype=int64)"
      ]
     },
     "execution_count": 36,
     "metadata": {},
     "output_type": "execute_result"
    }
   ],
   "source": [
    "import numpy as np\n",
    "y_pred = np.argmax(y_pred, axis=1)\n",
    "y_pred"
   ]
  },
  {
   "cell_type": "code",
   "execution_count": 2,
   "id": "97514773",
   "metadata": {},
   "outputs": [],
   "source": [
    "from tensorflow.keras.models import load_model\n",
    "from tensorflow.keras.preprocessing import image"
   ]
  },
  {
   "cell_type": "code",
   "execution_count": 3,
   "id": "85fab19a",
   "metadata": {},
   "outputs": [
    {
     "name": "stdout",
     "output_type": "stream",
     "text": [
      "WARNING:tensorflow:From C:\\Users\\ASUS ZenBook\\AppData\\Roaming\\Python\\Python311\\site-packages\\keras\\src\\backend.py:1398: The name tf.executing_eagerly_outside_functions is deprecated. Please use tf.compat.v1.executing_eagerly_outside_functions instead.\n",
      "\n",
      "WARNING:tensorflow:From C:\\Users\\ASUS ZenBook\\AppData\\Roaming\\Python\\Python311\\site-packages\\keras\\src\\layers\\pooling\\max_pooling2d.py:161: The name tf.nn.max_pool is deprecated. Please use tf.nn.max_pool2d instead.\n",
      "\n"
     ]
    }
   ],
   "source": [
    "model=load_model('model_resnet50.h5')"
   ]
  },
  {
   "cell_type": "code",
   "execution_count": 36,
   "id": "bf44d765",
   "metadata": {},
   "outputs": [
    {
     "data": {
      "image/png": "[encoded data removed]",
      "text/plain": [
       "<PIL.JpegImagePlugin.JpegImageFile image mode=RGB size=221x148>"
      ]
     },
     "execution_count": 36,
     "metadata": {},
     "output_type": "execute_result"
    }
   ],
   "source": [
    "img=image.load_img('roses.jpeg')\n",
    "img"
   ]
  },
  {
   "cell_type": "code",
   "execution_count": 37,
   "id": "30829add",
   "metadata": {},
   "outputs": [],
   "source": [
    "x=image.img_to_array(img)"
   ]
  },
  {
   "cell_type": "code",
   "execution_count": 38,
   "id": "a68c4630",
   "metadata": {},
   "outputs": [],
   "source": [
    "import cv2\n",
    "x= cv2.resize(x, dsize=(224, 224), interpolation=cv2.INTER_CUBIC)"
   ]
  },
  {
   "cell_type": "code",
   "execution_count": 39,
   "id": "83a17388",
   "metadata": {},
   "outputs": [],
   "source": [
    "from keras.applications.vgg16 import preprocess_input"
   ]
  },
  {
   "cell_type": "code",
   "execution_count": 40,
   "id": "3441dd8c",
   "metadata": {},
   "outputs": [
    {
     "data": {
      "text/plain": [
       "(1, 224, 224, 3)"
      ]
     },
     "execution_count": 40,
     "metadata": {},
     "output_type": "execute_result"
    }
   ],
   "source": [
    "import numpy as np\n",
    "x=np.expand_dims(x,axis=0)\n",
    "img_data=preprocess_input(x)\n",
    "img_data.shape"
   ]
  },
  {
   "cell_type": "code",
   "execution_count": 41,
   "id": "033ded24",
   "metadata": {},
   "outputs": [
    {
     "name": "stdout",
     "output_type": "stream",
     "text": [
      "1/1 [==============================] - 3s 3s/step\n"
     ]
    },
    {
     "data": {
      "text/plain": [
       "array([[9.9995267e-01, 1.0683226e-06, 2.9940782e-07, 1.1379685e-05,\n",
       "        3.4544584e-05]], dtype=float32)"
      ]
     },
     "execution_count": 41,
     "metadata": {},
     "output_type": "execute_result"
    }
   ],
   "source": [
    "model.predict(img_data)"
   ]
  },
  {
   "cell_type": "code",
   "execution_count": 42,
   "id": "f77e83a6",
   "metadata": {},
   "outputs": [
    {
     "name": "stdout",
     "output_type": "stream",
     "text": [
      "1/1 [==============================] - 0s 156ms/step\n"
     ]
    }
   ],
   "source": [
    "a=np.argmax(model.predict(img_data), axis=1)"
   ]
  },
  {
   "cell_type": "code",
   "execution_count": 43,
   "id": "bde3d5d6",
   "metadata": {},
   "outputs": [
    {
     "data": {
      "text/plain": [
       "array([0], dtype=int64)"
      ]
     },
     "execution_count": 43,
     "metadata": {},
     "output_type": "execute_result"
    }
   ],
   "source": [
    "a"
   ]
  },
  {
   "cell_type": "code",
   "execution_count": 44,
   "id": "63889a9e",
   "metadata": {},
   "outputs": [],
   "source": [
    "flower_name = ['dandelion',\n",
    " 'sunflower',\n",
    " 'tulip',\n",
    " 'daisy',\n",
    " 'rose']"
   ]
  },
  {
   "cell_type": "code",
   "execution_count": 46,
   "id": "75220bed",
   "metadata": {},
   "outputs": [
    {
     "data": {
      "text/plain": [
       "'dandelion'"
      ]
     },
     "execution_count": 46,
     "metadata": {},
     "output_type": "execute_result"
    }
   ],
   "source": [
    "flower_name[a[0]]"
   ]
  },
  {
   "cell_type": "code",
   "execution_count": null,
   "id": "cfd1c382",
   "metadata": {},
   "outputs": [],
   "source": []
  }
 ],
 "metadata": {
  "kernelspec": {
   "display_name": "Python 3 (ipykernel)",
   "language": "python",
   "name": "python3"
  },
  "language_info": {
   "codemirror_mode": {
    "name": "ipython",
    "version": 3
   },
   "file_extension": ".py",
   "mimetype": "text/x-python",
   "name": "python",
   "nbconvert_exporter": "python",
   "pygments_lexer": "ipython3",
   "version": "3.11.4"
  }
 },
 "nbformat": 4,
 "nbformat_minor": 5
}
